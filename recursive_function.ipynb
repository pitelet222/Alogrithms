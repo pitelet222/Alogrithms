{
 "cells": [
  {
   "cell_type": "code",
   "execution_count": 5,
   "id": "16edae29",
   "metadata": {},
   "outputs": [
    {
     "name": "stdout",
     "output_type": "stream",
     "text": [
      "15\n"
     ]
    }
   ],
   "source": [
    "def sum(n):\n",
    "    if n == 1:\n",
    "        return 1\n",
    "    else:\n",
    "        return n + (n-1)\n",
    "\n",
    "print(sum(8))"
   ]
  },
  {
   "cell_type": "code",
   "execution_count": 9,
   "id": "ca99e58f",
   "metadata": {},
   "outputs": [
    {
     "name": "stdout",
     "output_type": "stream",
     "text": [
      "34\n"
     ]
    }
   ],
   "source": [
    "def fib(n):\n",
    "    if n == 0:\n",
    "        return 0\n",
    "    elif n == 1:\n",
    "        return 1\n",
    "    else:\n",
    "        return fib(n-1) + fib(n-2)\n",
    "print(fib(9)) "
   ]
  },
  {
   "cell_type": "code",
   "execution_count": 16,
   "id": "6b75b4e6",
   "metadata": {},
   "outputs": [
    {
     "name": "stdout",
     "output_type": "stream",
     "text": [
      "aloH\n"
     ]
    }
   ],
   "source": [
    "def invertir(str):\n",
    "    string = []\n",
    "    if len(str) == 1:\n",
    "        return str\n",
    "    else:\n",
    "        return invertir(str[1:]) + str[0]\n",
    "\n",
    "print(invertir(\"Hola\"))\n",
    "    "
   ]
  },
  {
   "cell_type": "code",
   "execution_count": 28,
   "id": "b7236cce",
   "metadata": {},
   "outputs": [
    {
     "name": "stdout",
     "output_type": "stream",
     "text": [
      "5\n"
     ]
    }
   ],
   "source": [
    "def largada(str):\n",
    "    if str == \"\":\n",
    "     return 0\n",
    "    else:\n",
    "       return 1 + largada(str[1:])\n",
    "print(largada(\"aloha\"))\n"
   ]
  }
 ],
 "metadata": {
  "kernelspec": {
   "display_name": "Python 3",
   "language": "python",
   "name": "python3"
  },
  "language_info": {
   "codemirror_mode": {
    "name": "ipython",
    "version": 3
   },
   "file_extension": ".py",
   "mimetype": "text/x-python",
   "name": "python",
   "nbconvert_exporter": "python",
   "pygments_lexer": "ipython3",
   "version": "3.13.7"
  }
 },
 "nbformat": 4,
 "nbformat_minor": 5
}
