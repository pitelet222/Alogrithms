{
 "cells": [
  {
   "cell_type": "code",
   "execution_count": 61,
   "id": "46ac8823",
   "metadata": {},
   "outputs": [
    {
     "name": "stdout",
     "output_type": "stream",
     "text": [
      "Let them vote!\n"
     ]
    }
   ],
   "source": [
    "def check_voter(name):\n",
    "    if name in voted:\n",
    "        print(\"Kick them out\")\n",
    "    else:\n",
    "        voted[name] = True\n",
    "        print(\"Let them vote!\")\n",
    "\n",
    "voted = {\"Antonio\": True, \"Juan\": True, \"Maria\": True}\n",
    "\n",
    "check_voter(\"Laura   b                                                                                                                                                                                                                                                                                                                                                                                                                                                                                                                                                                                                                                                                                                                                                                                                                                                                                                                                                                                                                                                                                                                                 \")"
   ]
  },
  {
   "cell_type": "code",
   "execution_count": 62,
   "id": "e7a20c5d",
   "metadata": {},
   "outputs": [
    {
     "name": "stdout",
     "output_type": "stream",
     "text": [
      "Johnny is a mango seller\n"
     ]
    },
    {
     "data": {
      "text/plain": [
       "True"
      ]
     },
     "execution_count": 62,
     "metadata": {},
     "output_type": "execute_result"
    }
   ],
   "source": [
    "from collections import deque\n",
    "\n",
    "# Crear el grafo\n",
    "graph = {}\n",
    "graph[\"You\"] = [\"Alice\", \"Bob\", \"Sofia\"]\n",
    "graph[\"Bob\"] = [\"Anuj\", \"Pegui\"]\n",
    "graph[\"Alice\"] = [\"Pegui\"]\n",
    "graph[\"Sofia\"] = [\"Thom\", \"Johnny\"]\n",
    "graph[\"Anuj\"] = []\n",
    "graph[\"Pegui\"] = []\n",
    "graph[\"Thom\"] = []\n",
    "graph[\"Johnny\"] = []\n",
    "\n",
    "\n",
    "def person_is_seller(name):\n",
    "    def recursive(num):\n",
    "        if num == 1:\n",
    "            return 1\n",
    "        else:\n",
    "            num += recursive(num-1)\n",
    "            return num\n",
    "    if recursive(len(name)) >= 19:\n",
    "        return True   \n",
    "def queue_search(graph):\n",
    "    search_queue = deque()\n",
    "    search_queue += graph[\"You\"]\n",
    "    searched = set()\n",
    "    while search_queue:\n",
    "        person = search_queue.popleft()\n",
    "        if person not in searched:\n",
    "            if person_is_seller(person):\n",
    "                print(f\"{person} is a mango seller\")\n",
    "                return True\n",
    "            else:\n",
    "                search_queue += graph[person]\n",
    "                searched.add(person)\n",
    "    return False\n",
    "\n",
    "queue_search(graph)\n"
   ]
  },
  {
   "cell_type": "code",
   "execution_count": 63,
   "id": "ef1664d4",
   "metadata": {},
   "outputs": [
    {
     "name": "stdout",
     "output_type": "stream",
     "text": [
      "['Alice', 'Bob', 'Sofia']\n"
     ]
    }
   ],
   "source": [
    "print(graph[\"You\"])  # prints the entire graph dictionary"
   ]
  },
  {
   "cell_type": "code",
   "execution_count": null,
   "id": "c72d21da",
   "metadata": {},
   "outputs": [],
   "source": [
    "# Crea un sistema simple que:\n",
    "# 1. Tenga un diccionario de estudiantes y sus notas\n",
    "# 2. Actualice la nota más alta\n",
    "# 3. Guarde quién tiene cada nota\n",
    "\n",
    "\n",
    "sistema = {}\n",
    "sistema[\"Estudiantes\"] = {}\n",
    "sistema"
   ]
  },
  {
   "cell_type": "code",
   "execution_count": null,
   "id": "c1180ef4",
   "metadata": {},
   "outputs": [
    {
     "name": "stdout",
     "output_type": "stream",
     "text": [
      "{1: 0, 23: 1, 53: 2, 453: 3, 34: 4, 2: 5, 42: 6}\n"
     ]
    }
   ],
   "source": [
    "\n",
    "nums = [1,23,53,453,34,2,42]\n",
    "\n",
    "hash_map = {value:index for index, value in enumerate(nums)}\n",
    "\n",
    "print(hash_map)"
   ]
  },
  {
   "cell_type": "code",
   "execution_count": null,
   "id": "92df8872",
   "metadata": {},
   "outputs": [],
   "source": [
    "from typing import List\n",
    "\n",
    "class Solution:\n",
    "    def twoSum(self, nums: List[int], target: int) -> List[int]:\n",
    "        hash_map = {}\n",
    "        for i in range(len(nums)):\n",
    "            complement = target - nums[i]\n",
    "            if complement in hash_map:\n",
    "                return [i, hash_map[complement]]\n",
    "            else:\n",
    "                hash_map[nums[i]] = i\n",
    "\n"
   ]
  },
  {
   "cell_type": "code",
   "execution_count": null,
   "id": "e160c6b2",
   "metadata": {},
   "outputs": [],
   "source": [
    "class Solution:\n",
    "    def isPalindrome(self, x: int) -> bool:\n",
    "        original = x\n",
    "        reversed = 0\n",
    "        while original > 0:\n",
    "            last = original % 10\n",
    "            reversed *= 10\n",
    "            reversed += last\n",
    "            \n",
    "            original //= 10\n",
    "        if reversed == original:\n",
    "            return True\n",
    "        else:\n",
    "            return False\n",
    "        \n",
    "\n",
    "\n",
    "        \n",
    "            "
   ]
  },
  {
   "cell_type": "code",
   "execution_count": 67,
   "id": "d220e1c9",
   "metadata": {},
   "outputs": [],
   "source": [
    "def romanToInt(s: str) -> int:\n",
    "        total = 0\n",
    "        roman_n = {\"I\": 1, \"V\": 5, \"X\": 10, \"L\": 50, \"C\": 100, \"D\": 500, \"M\": 1000}\n",
    "        for l in range(len(s)):\n",
    "            if s[l] in roman_n:\n",
    "                if l + 1 < len(s) and  roman_n[s[l]] < roman_n[s[l+1]]: \n",
    "                    total -= roman_n[s[l]]\n",
    "                else:\n",
    "                    total += roman_n[s[l]]\n",
    "\n",
    "        return total\n",
    "\n"
   ]
  },
  {
   "cell_type": "code",
   "execution_count": 83,
   "id": "85541911",
   "metadata": {},
   "outputs": [
    {
     "data": {
      "text/plain": [
       "{'H': 1, 'e': 1, 'l': 2, 'o': 1}"
      ]
     },
     "execution_count": 83,
     "metadata": {},
     "output_type": "execute_result"
    }
   ],
   "source": [
    "def count_str(str):\n",
    "    map = {}\n",
    "    for char in str:\n",
    "        if char in map:\n",
    "            map[char] += 1\n",
    "        else:\n",
    "            map[char] = 1\n",
    "    return map\n",
    "\n",
    "count_str(\"Hello\")\n"
   ]
  },
  {
   "cell_type": "code",
   "execution_count": 89,
   "id": "7df7e09e",
   "metadata": {},
   "outputs": [
    {
     "data": {
      "text/plain": [
       "'l'"
      ]
     },
     "execution_count": 89,
     "metadata": {},
     "output_type": "execute_result"
    }
   ],
   "source": [
    "def apareceuna(str):\n",
    "    map = {}\n",
    "    for char in str:\n",
    "        if char in map:\n",
    "            map[char] += 1\n",
    "        else:\n",
    "            map[char] = 1\n",
    "    for char in str:\n",
    "        if map[char] == 1:\n",
    "            return char\n",
    "        \n",
    "apareceuna(\"lamadrequyemepario\")\n",
    "    "
   ]
  },
  {
   "cell_type": "code",
   "execution_count": 130,
   "id": "496d52aa",
   "metadata": {},
   "outputs": [
    {
     "data": {
      "text/plain": [
       "'fl'"
      ]
     },
     "execution_count": 130,
     "metadata": {},
     "output_type": "execute_result"
    }
   ],
   "source": [
    "def longestCommonPrefix(strs: List[str]) -> str:\n",
    "    prefix = \"\"\n",
    "    for i in range(min(len(word) for word in strs)):\n",
    "        first = strs[0][i]\n",
    "\n",
    "        for j in range(1, len(strs)):\n",
    "            if strs[j][i] != first:\n",
    "                return prefix\n",
    "            else:\n",
    "                pass\n",
    "        prefix += first\n",
    "                \n",
    "    \n",
    "                 \n",
    "longestCommonPrefix(strs=[\"flower\",\"flow\",\"flight\"])"
   ]
  },
  {
   "cell_type": "code",
   "execution_count": null,
   "id": "24a27a39",
   "metadata": {},
   "outputs": [],
   "source": [
    "def isValid(s: str) -> bool:\n",
    "    parenthesis = []\n",
    "    map = {\"(\":\")\", \"[\":\"]\", \"{\":\"}\"}\n",
    "    for i in s:\n",
    "        if i in map:\n",
    "            parenthesis.append(i)\n",
    "        elif i in \")]}\":\n",
    "            if parenthesis[-1] == i:\n",
    "                parenthesis.pop()\n",
    "            else:\n",
    "                return False\n",
    "\n",
    "\n",
    "\n",
    "\n",
    "        \n",
    "isValid(\"()\")\n",
    "    "
   ]
  },
  {
   "cell_type": "code",
   "execution_count": null,
   "id": "8e9ad71e",
   "metadata": {},
   "outputs": [],
   "source": []
  }
 ],
 "metadata": {
  "kernelspec": {
   "display_name": "Python 3",
   "language": "python",
   "name": "python3"
  },
  "language_info": {
   "codemirror_mode": {
    "name": "ipython",
    "version": 3
   },
   "file_extension": ".py",
   "mimetype": "text/x-python",
   "name": "python",
   "nbconvert_exporter": "python",
   "pygments_lexer": "ipython3",
   "version": "3.13.7"
  }
 },
 "nbformat": 4,
 "nbformat_minor": 5
}
